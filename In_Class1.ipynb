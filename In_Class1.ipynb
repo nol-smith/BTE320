{
  "nbformat": 4,
  "nbformat_minor": 0,
  "metadata": {
    "colab": {
      "provenance": []
    },
    "kernelspec": {
      "name": "python3",
      "display_name": "Python 3"
    },
    "language_info": {
      "name": "python"
    }
  },
  "cells": [
    {
      "cell_type": "code",
      "execution_count": null,
      "metadata": {
        "colab": {
          "base_uri": "https://localhost:8080/"
        },
        "id": "wSJvUbp7aAnk",
        "outputId": "c56b075a-1c4a-43d7-b7ef-2fa7ae259727"
      },
      "outputs": [
        {
          "output_type": "stream",
          "name": "stdout",
          "text": [
            "Please insert radius here: 5\n",
            "Please insert height here: 10\n",
            "The surface area of the cylinder is: 471.238898025\n"
          ]
        }
      ],
      "source": [
        "pi = 3.1415926535\n",
        "radius = int(input(\"Please insert radius here: \"))\n",
        "height = int(input(\"Please insert height here: \"))\n",
        "\n",
        "\n",
        "surfacearea = (2 * pi * radius * height) + ((2 * pi) * radius ** 2)\n",
        "\n",
        "print(\"The surface area of the cylinder is: \" + str(surfacearea))"
      ]
    }
  ]
}