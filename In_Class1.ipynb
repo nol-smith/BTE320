{
  "nbformat": 4,
  "nbformat_minor": 0,
  "metadata": {
    "colab": {
      "provenance": [],
      "authorship_tag": "ABX9TyOgOVNoHsHFFXciCzTQTlmG",
      "include_colab_link": true
    },
    "kernelspec": {
      "name": "python3",
      "display_name": "Python 3"
    },
    "language_info": {
      "name": "python"
    }
  },
  "cells": [
    {
      "cell_type": "markdown",
      "metadata": {
        "id": "view-in-github",
        "colab_type": "text"
      },
      "source": [
        "<a href=\"https://colab.research.google.com/github/nol-smith/BTE320/blob/main/In_Class1.ipynb\" target=\"_parent\"><img src=\"https://colab.research.google.com/assets/colab-badge.svg\" alt=\"Open In Colab\"/></a>"
      ]
    },
    {
      "cell_type": "code",
      "execution_count": null,
      "metadata": {
        "id": "wSJvUbp7aAnk"
      },
      "outputs": [],
      "source": [
        "pi = 3.1415926535\n",
        "radius = int(input(\"Please insert radius here: \"))\n",
        "height = int(input(\"Please insert height here: \"))\n",
        "\n",
        "\n",
        "surfacearea = (2 * pi * radius * height) + ((2 * pi) * radius ** 2)\n",
        "\n",
        "print(\"The surface area of the cylinder is: \" + str(surfacearea))"
      ]
    }
  ]
}