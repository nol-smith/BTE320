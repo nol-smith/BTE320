{
  "nbformat": 4,
  "nbformat_minor": 0,
  "metadata": {
    "colab": {
      "provenance": [],
      "authorship_tag": "ABX9TyO84IzKWCuBHhIIWJnlzuAQ",
      "include_colab_link": true
    },
    "kernelspec": {
      "name": "python3",
      "display_name": "Python 3"
    },
    "language_info": {
      "name": "python"
    }
  },
  "cells": [
    {
      "cell_type": "markdown",
      "metadata": {
        "id": "view-in-github",
        "colab_type": "text"
      },
      "source": [
        "<a href=\"https://colab.research.google.com/github/nol-smith/BTE320/blob/In-Class-Assignments/InClass4.ipynb\" target=\"_parent\"><img src=\"https://colab.research.google.com/assets/colab-badge.svg\" alt=\"Open In Colab\"/></a>"
      ]
    },
    {
      "cell_type": "code",
      "execution_count": 16,
      "metadata": {
        "colab": {
          "base_uri": "https://localhost:8080/"
        },
        "id": "4bgwyVy84dlB",
        "outputId": "681ecc36-9154-4c43-9bc5-9ee98ae6042e"
      },
      "outputs": [
        {
          "output_type": "stream",
          "name": "stdout",
          "text": [
            "['Rock', 'Paper', 'Scissors'] shoot\n",
            "Insert your choice here (Rock, Paper, Scissors): Rock\n",
            "Computer Chose: Rock\n",
            "DRAW\n",
            "['Rock', 'Paper', 'Scissors'] shoot\n",
            "Insert your choice here (Rock, Paper, Scissors): Scissors\n",
            "Computer Chose: Paper\n",
            "YOU WIN\n"
          ]
        }
      ],
      "source": [
        "import random\n",
        "\n",
        "rock = \"Rock\"\n",
        "paper = \"Paper\"\n",
        "scissors = \"Scissors\"\n",
        "\n",
        "options = [rock, paper, scissors]\n",
        "\n",
        "while True:\n",
        "    chosen_variable = random.choice(options)\n",
        "\n",
        "    print(options, \"shoot\")\n",
        "\n",
        "    player_choice = input(\"Insert your choice here (Rock, Paper, Scissors): \").capitalize()\n",
        "\n",
        "    print(\"Computer Chose:\",chosen_variable)\n",
        "\n",
        "    if player_choice not in options:\n",
        "        print(\"Invalid choice. Please enter Rock, Paper, or Scissors.\")\n",
        "        continue\n",
        "\n",
        "    if player_choice == chosen_variable:\n",
        "        print(\"DRAW\")\n",
        "    elif (player_choice == \"Rock\" and chosen_variable == \"Scissors\") or \\\n",
        "         (player_choice == \"Paper\" and chosen_variable == \"Rock\") or \\\n",
        "         (player_choice == \"Scissors\" and chosen_variable == \"Paper\"):\n",
        "        print(\"YOU WIN\")\n",
        "        break\n",
        "    else:\n",
        "        print(\"YOU LOSE\")\n"
      ]
    }
  ]
}