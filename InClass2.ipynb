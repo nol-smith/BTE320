{
  "nbformat": 4,
  "nbformat_minor": 0,
  "metadata": {
    "colab": {
      "provenance": [],
      "authorship_tag": "ABX9TyM207nHYlC/vOIlOxD++9TK",
      "include_colab_link": true
    },
    "kernelspec": {
      "name": "python3",
      "display_name": "Python 3"
    },
    "language_info": {
      "name": "python"
    }
  },
  "cells": [
    {
      "cell_type": "markdown",
      "metadata": {
        "id": "view-in-github",
        "colab_type": "text"
      },
      "source": [
        "<a href=\"https://colab.research.google.com/github/nol-smith/BTE320/blob/In-Class-Assignments/InClass2.ipynb\" target=\"_parent\"><img src=\"https://colab.research.google.com/assets/colab-badge.svg\" alt=\"Open In Colab\"/></a>"
      ]
    },
    {
      "cell_type": "code",
      "execution_count": 13,
      "metadata": {
        "colab": {
          "base_uri": "https://localhost:8080/"
        },
        "id": "Snilkm0rcAWt",
        "outputId": "07a8fcd1-00b6-448f-912b-1df25738843c"
      },
      "outputs": [
        {
          "output_type": "stream",
          "name": "stdout",
          "text": [
            "Please provide your first number: 1\n",
            "Please provide your second number: 2\n",
            "Please provide your operator (+, -, *, /): +\n",
            "3.0\n"
          ]
        }
      ],
      "source": [
        "number = float(input('Please provide your first number: '))\n",
        "numbertwo = float(input('Please provide your second number: '))\n",
        "operator = input('Please provide your operator (+, -, *, /): ')\n",
        "\n",
        "if operator == '+':\n",
        "    result = number + numbertwo\n",
        "elif operator == '-':\n",
        "    result = number - numbertwo\n",
        "elif operator == '*':\n",
        "    result = number * numbertwo\n",
        "elif operator == '/':\n",
        "    if numbertwo != 0:\n",
        "        result = number / numbertwo\n",
        "    else:\n",
        "        result = \"Error: Division by zero is not allowed.\"\n",
        "else:\n",
        "    result = \"Error: Invalid operator.\"\n",
        "\n",
        "print(result)"
      ]
    }
  ]
}