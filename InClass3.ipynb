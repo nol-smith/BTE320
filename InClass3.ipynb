{
  "nbformat": 4,
  "nbformat_minor": 0,
  "metadata": {
    "colab": {
      "provenance": [],
      "authorship_tag": "ABX9TyP2F62J+eY9Ph2KvTewHlAv",
      "include_colab_link": true
    },
    "kernelspec": {
      "name": "python3",
      "display_name": "Python 3"
    },
    "language_info": {
      "name": "python"
    }
  },
  "cells": [
    {
      "cell_type": "markdown",
      "metadata": {
        "id": "view-in-github",
        "colab_type": "text"
      },
      "source": [
        "<a href=\"https://colab.research.google.com/github/nol-smith/BTE320/blob/In-Class-Assignments/InClass3.ipynb\" target=\"_parent\"><img src=\"https://colab.research.google.com/assets/colab-badge.svg\" alt=\"Open In Colab\"/></a>"
      ]
    },
    {
      "cell_type": "markdown",
      "source": [
        "\n"
      ],
      "metadata": {
        "id": "TzDzzhTHJVpA"
      }
    },
    {
      "cell_type": "code",
      "source": [
        "# PARKING GARAGE FEES\n",
        "print(\"Parking Garage Fees\")\n",
        "for hours in range(1, 11):\n",
        "    print(f\"Hours: {hours}\")\n",
        "\n",
        "    if hours >= 6:\n",
        "        print(20)\n",
        "    elif hours >= 3:\n",
        "        print((hours * 2.50) + 5)\n",
        "    elif hours <= 2:\n",
        "        print(10)\n",
        "\n",
        "# MOVIE THEATER\n",
        "print(\"Movie Theater Profit\")\n",
        "for costs in range(0, 201, 25):\n",
        "    attendees = 2 * round(costs ** (1/2))\n",
        "    profit = ((attendees + 20) * 10) - 200 - costs\n",
        "    print(f\"Advertising: {costs}, Profit: {profit}\")"
      ],
      "metadata": {
        "colab": {
          "base_uri": "https://localhost:8080/"
        },
        "id": "BOp0qdcQPumU",
        "outputId": "4f94a88c-e8fc-4876-a05d-2d746d01d330"
      },
      "execution_count": 27,
      "outputs": [
        {
          "output_type": "stream",
          "name": "stdout",
          "text": [
            "Parking Garage Fees\n",
            "Hours: 1\n",
            "10\n",
            "Hours: 2\n",
            "10\n",
            "Hours: 3\n",
            "12.5\n",
            "Hours: 4\n",
            "15.0\n",
            "Hours: 5\n",
            "17.5\n",
            "Hours: 6\n",
            "20\n",
            "Hours: 7\n",
            "20\n",
            "Hours: 8\n",
            "20\n",
            "Hours: 9\n",
            "20\n",
            "Hours: 10\n",
            "20\n",
            "Movie Theater Profit\n",
            "Advertising: 0, Profit: 0\n",
            "Advertising: 25, Profit: 75\n",
            "Advertising: 50, Profit: 90\n",
            "Advertising: 75, Profit: 105\n",
            "Advertising: 100, Profit: 100\n",
            "Advertising: 125, Profit: 95\n",
            "Advertising: 150, Profit: 90\n",
            "Advertising: 175, Profit: 85\n",
            "Advertising: 200, Profit: 80\n"
          ]
        }
      ]
    }
  ]
}